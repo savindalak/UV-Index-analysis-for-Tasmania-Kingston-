{
 "cells": [
  {
   "cell_type": "markdown",
   "metadata": {},
   "source": [
    "<h1>UV Index analyis -TASMANIA"
   ]
  },
  {
   "cell_type": "code",
   "execution_count": 38,
   "metadata": {},
   "outputs": [],
   "source": [
    "import pandas as pd\n",
    "import numpy as np\n",
    "import matplotlib.pyplot as plt\n",
    "import seaborn as sns\n",
    "import sklearn\n"
   ]
  },
  {
   "cell_type": "code",
   "execution_count": 39,
   "metadata": {},
   "outputs": [],
   "source": [
    "import calendar\n",
    "import datetime"
   ]
  },
  {
   "cell_type": "markdown",
   "metadata": {},
   "source": [
    "<h2>Import Tasmania(Kingston) UV index dataset from Australian government website"
   ]
  },
  {
   "cell_type": "code",
   "execution_count": 40,
   "metadata": {},
   "outputs": [],
   "source": [
    "df = pd.read_csv('https://data.gov.au/data/dataset/a182fb57-4355-404d-b462-dfd7c92feba9/resource/e6ec922b-9df8-47aa-8795-dd5373830b76/download/uv-kingston-2018.csv')"
   ]
  },
  {
   "cell_type": "code",
   "execution_count": 41,
   "metadata": {},
   "outputs": [
    {
     "data": {
      "text/html": [
       "<div>\n",
       "<style scoped>\n",
       "    .dataframe tbody tr th:only-of-type {\n",
       "        vertical-align: middle;\n",
       "    }\n",
       "\n",
       "    .dataframe tbody tr th {\n",
       "        vertical-align: top;\n",
       "    }\n",
       "\n",
       "    .dataframe thead th {\n",
       "        text-align: right;\n",
       "    }\n",
       "</style>\n",
       "<table border=\"1\" class=\"dataframe\">\n",
       "  <thead>\n",
       "    <tr style=\"text-align: right;\">\n",
       "      <th></th>\n",
       "      <th>Date-Time</th>\n",
       "      <th>Lat</th>\n",
       "      <th>Lon</th>\n",
       "      <th>UV_Index</th>\n",
       "    </tr>\n",
       "  </thead>\n",
       "  <tbody>\n",
       "    <tr>\n",
       "      <th>0</th>\n",
       "      <td>2018-01-01 00:00:00</td>\n",
       "      <td>-42.99</td>\n",
       "      <td>147.29</td>\n",
       "      <td>0.01</td>\n",
       "    </tr>\n",
       "    <tr>\n",
       "      <th>1</th>\n",
       "      <td>2018-01-01 00:01:00</td>\n",
       "      <td>-42.99</td>\n",
       "      <td>147.29</td>\n",
       "      <td>0.01</td>\n",
       "    </tr>\n",
       "    <tr>\n",
       "      <th>2</th>\n",
       "      <td>2018-01-01 00:02:00</td>\n",
       "      <td>-42.99</td>\n",
       "      <td>147.29</td>\n",
       "      <td>0.01</td>\n",
       "    </tr>\n",
       "    <tr>\n",
       "      <th>3</th>\n",
       "      <td>2018-01-01 00:03:00</td>\n",
       "      <td>-42.99</td>\n",
       "      <td>147.29</td>\n",
       "      <td>0.01</td>\n",
       "    </tr>\n",
       "    <tr>\n",
       "      <th>4</th>\n",
       "      <td>2018-01-01 00:04:00</td>\n",
       "      <td>-42.99</td>\n",
       "      <td>147.29</td>\n",
       "      <td>0.01</td>\n",
       "    </tr>\n",
       "  </tbody>\n",
       "</table>\n",
       "</div>"
      ],
      "text/plain": [
       "             Date-Time    Lat     Lon  UV_Index\n",
       "0  2018-01-01 00:00:00 -42.99  147.29      0.01\n",
       "1  2018-01-01 00:01:00 -42.99  147.29      0.01\n",
       "2  2018-01-01 00:02:00 -42.99  147.29      0.01\n",
       "3  2018-01-01 00:03:00 -42.99  147.29      0.01\n",
       "4  2018-01-01 00:04:00 -42.99  147.29      0.01"
      ]
     },
     "execution_count": 41,
     "metadata": {},
     "output_type": "execute_result"
    }
   ],
   "source": [
    "df.head()\n"
   ]
  },
  {
   "cell_type": "code",
   "execution_count": 42,
   "metadata": {},
   "outputs": [
    {
     "name": "stdout",
     "output_type": "stream",
     "text": [
      "<class 'pandas.core.frame.DataFrame'>\n",
      "RangeIndex: 523442 entries, 0 to 523441\n",
      "Data columns (total 4 columns):\n",
      "Date-Time    523442 non-null object\n",
      "Lat          523442 non-null float64\n",
      "Lon          523442 non-null float64\n",
      "UV_Index     523442 non-null float64\n",
      "dtypes: float64(3), object(1)\n",
      "memory usage: 16.0+ MB\n"
     ]
    }
   ],
   "source": [
    "df.info()"
   ]
  },
  {
   "cell_type": "code",
   "execution_count": 43,
   "metadata": {},
   "outputs": [],
   "source": [
    "df['Date-Time'] = df['Date-Time'].astype('datetime64')"
   ]
  },
  {
   "cell_type": "code",
   "execution_count": 44,
   "metadata": {},
   "outputs": [
    {
     "name": "stdout",
     "output_type": "stream",
     "text": [
      "<class 'pandas.core.frame.DataFrame'>\n",
      "RangeIndex: 523442 entries, 0 to 523441\n",
      "Data columns (total 4 columns):\n",
      "Date-Time    523442 non-null datetime64[ns]\n",
      "Lat          523442 non-null float64\n",
      "Lon          523442 non-null float64\n",
      "UV_Index     523442 non-null float64\n",
      "dtypes: datetime64[ns](1), float64(3)\n",
      "memory usage: 16.0 MB\n"
     ]
    }
   ],
   "source": [
    "df.info()"
   ]
  },
  {
   "cell_type": "code",
   "execution_count": 45,
   "metadata": {},
   "outputs": [
    {
     "data": {
      "text/html": [
       "<div>\n",
       "<style scoped>\n",
       "    .dataframe tbody tr th:only-of-type {\n",
       "        vertical-align: middle;\n",
       "    }\n",
       "\n",
       "    .dataframe tbody tr th {\n",
       "        vertical-align: top;\n",
       "    }\n",
       "\n",
       "    .dataframe thead th {\n",
       "        text-align: right;\n",
       "    }\n",
       "</style>\n",
       "<table border=\"1\" class=\"dataframe\">\n",
       "  <thead>\n",
       "    <tr style=\"text-align: right;\">\n",
       "      <th></th>\n",
       "      <th>Lat</th>\n",
       "      <th>Lon</th>\n",
       "      <th>UV_Index</th>\n",
       "    </tr>\n",
       "  </thead>\n",
       "  <tbody>\n",
       "    <tr>\n",
       "      <th>count</th>\n",
       "      <td>5.234420e+05</td>\n",
       "      <td>5.234420e+05</td>\n",
       "      <td>523442.000000</td>\n",
       "    </tr>\n",
       "    <tr>\n",
       "      <th>mean</th>\n",
       "      <td>-4.299000e+01</td>\n",
       "      <td>1.472900e+02</td>\n",
       "      <td>0.927751</td>\n",
       "    </tr>\n",
       "    <tr>\n",
       "      <th>std</th>\n",
       "      <td>2.720458e-10</td>\n",
       "      <td>1.722641e-10</td>\n",
       "      <td>1.868436</td>\n",
       "    </tr>\n",
       "    <tr>\n",
       "      <th>min</th>\n",
       "      <td>-4.299000e+01</td>\n",
       "      <td>1.472900e+02</td>\n",
       "      <td>0.010000</td>\n",
       "    </tr>\n",
       "    <tr>\n",
       "      <th>25%</th>\n",
       "      <td>-4.299000e+01</td>\n",
       "      <td>1.472900e+02</td>\n",
       "      <td>0.010000</td>\n",
       "    </tr>\n",
       "    <tr>\n",
       "      <th>50%</th>\n",
       "      <td>-4.299000e+01</td>\n",
       "      <td>1.472900e+02</td>\n",
       "      <td>0.010000</td>\n",
       "    </tr>\n",
       "    <tr>\n",
       "      <th>75%</th>\n",
       "      <td>-4.299000e+01</td>\n",
       "      <td>1.472900e+02</td>\n",
       "      <td>0.880000</td>\n",
       "    </tr>\n",
       "    <tr>\n",
       "      <th>max</th>\n",
       "      <td>-4.299000e+01</td>\n",
       "      <td>1.472900e+02</td>\n",
       "      <td>12.650000</td>\n",
       "    </tr>\n",
       "  </tbody>\n",
       "</table>\n",
       "</div>"
      ],
      "text/plain": [
       "                Lat           Lon       UV_Index\n",
       "count  5.234420e+05  5.234420e+05  523442.000000\n",
       "mean  -4.299000e+01  1.472900e+02       0.927751\n",
       "std    2.720458e-10  1.722641e-10       1.868436\n",
       "min   -4.299000e+01  1.472900e+02       0.010000\n",
       "25%   -4.299000e+01  1.472900e+02       0.010000\n",
       "50%   -4.299000e+01  1.472900e+02       0.010000\n",
       "75%   -4.299000e+01  1.472900e+02       0.880000\n",
       "max   -4.299000e+01  1.472900e+02      12.650000"
      ]
     },
     "execution_count": 45,
     "metadata": {},
     "output_type": "execute_result"
    }
   ],
   "source": [
    "df.describe()"
   ]
  },
  {
   "cell_type": "code",
   "execution_count": 46,
   "metadata": {},
   "outputs": [],
   "source": [
    "def UV_Index_new(index):\n",
    "    if index<=float(2):\n",
    "        return 'Minimal'\n",
    "    if index<=float(4):\n",
    "        return 'Low'\n",
    "    if index<=float(6):\n",
    "        return 'Moderate'\n",
    "    else:\n",
    "        return 'High'"
   ]
  },
  {
   "cell_type": "code",
   "execution_count": 47,
   "metadata": {},
   "outputs": [
    {
     "data": {
      "text/plain": [
       "UV_Index_new\n",
       "High         20080\n",
       "Low          40479\n",
       "Minimal     442783\n",
       "Moderate     20100\n",
       "dtype: int64"
      ]
     },
     "execution_count": 47,
     "metadata": {},
     "output_type": "execute_result"
    }
   ],
   "source": [
    "df['UV_Index_new']=df['UV_Index'].apply(lambda x:UV_Index_new(x))\n",
    "df.groupby('UV_Index_new').size()"
   ]
  },
  {
   "cell_type": "markdown",
   "metadata": {},
   "source": [
    "<h2>Most UV measurements fall within minimal level category "
   ]
  },
  {
   "cell_type": "code",
   "execution_count": 48,
   "metadata": {},
   "outputs": [
    {
     "data": {
      "text/plain": [
       "<matplotlib.axes._subplots.AxesSubplot at 0x1be5a476278>"
      ]
     },
     "execution_count": 48,
     "metadata": {},
     "output_type": "execute_result"
    },
    {
     "data": {
      "image/png": "[encoded data removed]",
      "text/plain": [
       "<Figure size 432x288 with 1 Axes>"
      ]
     },
     "metadata": {
      "needs_background": "light"
     },
     "output_type": "display_data"
    }
   ],
   "source": [
    "df.groupby('UV_Index_new').size().plot(kind='bar')"
   ]
  },
  {
   "cell_type": "markdown",
   "metadata": {},
   "source": [
    "<h2>Clear distinction between summer and winter Uv levels"
   ]
  },
  {
   "cell_type": "code",
   "execution_count": 49,
   "metadata": {},
   "outputs": [
    {
     "data": {
      "image/png": "[encoded data removed]",
      "text/plain": [
       "<Figure size 432x288 with 1 Axes>"
      ]
     },
     "metadata": {
      "needs_background": "light"
     },
     "output_type": "display_data"
    }
   ],
   "source": [
    "plt.plot(df['Date-Time'],df['UV_Index'],'.')\n",
    "plt.xlabel('Date')\n",
    "plt.ylabel('UV Index')\n",
    "plt.title('Scatter plot of UV Index vs Time')\n",
    "plt.show()"
   ]
  },
  {
   "cell_type": "markdown",
   "metadata": {},
   "source": [
    "<h2>UV index distribution is right skewed "
   ]
  },
  {
   "cell_type": "code",
   "execution_count": 50,
   "metadata": {},
   "outputs": [
    {
     "data": {
      "image/png": "[encoded data removed]",
      "text/plain": [
       "<Figure size 432x288 with 1 Axes>"
      ]
     },
     "metadata": {
      "needs_background": "light"
     },
     "output_type": "display_data"
    }
   ],
   "source": [
    "sns.distplot(df['UV_Index'],hist=False)\n",
    "plt.title('Distribution of UV Index ')\n",
    "plt.xlabel('UV Index values')\n",
    "plt.ylabel('Proportion of the total measurements')\n",
    "plt.show()"
   ]
  },
  {
   "cell_type": "code",
   "execution_count": 51,
   "metadata": {},
   "outputs": [
    {
     "data": {
      "text/html": [
       "<div>\n",
       "<style scoped>\n",
       "    .dataframe tbody tr th:only-of-type {\n",
       "        vertical-align: middle;\n",
       "    }\n",
       "\n",
       "    .dataframe tbody tr th {\n",
       "        vertical-align: top;\n",
       "    }\n",
       "\n",
       "    .dataframe thead th {\n",
       "        text-align: right;\n",
       "    }\n",
       "</style>\n",
       "<table border=\"1\" class=\"dataframe\">\n",
       "  <thead>\n",
       "    <tr style=\"text-align: right;\">\n",
       "      <th></th>\n",
       "      <th>Lat</th>\n",
       "      <th>Lon</th>\n",
       "      <th>UV_Index</th>\n",
       "    </tr>\n",
       "    <tr>\n",
       "      <th>Date-Time</th>\n",
       "      <th></th>\n",
       "      <th></th>\n",
       "      <th></th>\n",
       "    </tr>\n",
       "  </thead>\n",
       "  <tbody>\n",
       "    <tr>\n",
       "      <th>April</th>\n",
       "      <td>-42.99</td>\n",
       "      <td>147.29</td>\n",
       "      <td>0.563583</td>\n",
       "    </tr>\n",
       "    <tr>\n",
       "      <th>August</th>\n",
       "      <td>-42.99</td>\n",
       "      <td>147.29</td>\n",
       "      <td>0.289796</td>\n",
       "    </tr>\n",
       "    <tr>\n",
       "      <th>December</th>\n",
       "      <td>-42.99</td>\n",
       "      <td>147.29</td>\n",
       "      <td>2.070730</td>\n",
       "    </tr>\n",
       "    <tr>\n",
       "      <th>February</th>\n",
       "      <td>-42.99</td>\n",
       "      <td>147.29</td>\n",
       "      <td>1.591046</td>\n",
       "    </tr>\n",
       "    <tr>\n",
       "      <th>January</th>\n",
       "      <td>-42.99</td>\n",
       "      <td>147.29</td>\n",
       "      <td>2.080298</td>\n",
       "    </tr>\n",
       "    <tr>\n",
       "      <th>July</th>\n",
       "      <td>-42.99</td>\n",
       "      <td>147.29</td>\n",
       "      <td>0.177394</td>\n",
       "    </tr>\n",
       "    <tr>\n",
       "      <th>June</th>\n",
       "      <td>-42.99</td>\n",
       "      <td>147.29</td>\n",
       "      <td>0.161210</td>\n",
       "    </tr>\n",
       "    <tr>\n",
       "      <th>March</th>\n",
       "      <td>-42.99</td>\n",
       "      <td>147.29</td>\n",
       "      <td>1.120634</td>\n",
       "    </tr>\n",
       "    <tr>\n",
       "      <th>May</th>\n",
       "      <td>-42.99</td>\n",
       "      <td>147.29</td>\n",
       "      <td>0.231696</td>\n",
       "    </tr>\n",
       "    <tr>\n",
       "      <th>November</th>\n",
       "      <td>-42.99</td>\n",
       "      <td>147.29</td>\n",
       "      <td>1.235667</td>\n",
       "    </tr>\n",
       "    <tr>\n",
       "      <th>October</th>\n",
       "      <td>-42.99</td>\n",
       "      <td>147.29</td>\n",
       "      <td>1.019748</td>\n",
       "    </tr>\n",
       "    <tr>\n",
       "      <th>September</th>\n",
       "      <td>-42.99</td>\n",
       "      <td>147.29</td>\n",
       "      <td>0.608121</td>\n",
       "    </tr>\n",
       "  </tbody>\n",
       "</table>\n",
       "</div>"
      ],
      "text/plain": [
       "             Lat     Lon  UV_Index\n",
       "Date-Time                         \n",
       "April     -42.99  147.29  0.563583\n",
       "August    -42.99  147.29  0.289796\n",
       "December  -42.99  147.29  2.070730\n",
       "February  -42.99  147.29  1.591046\n",
       "January   -42.99  147.29  2.080298\n",
       "July      -42.99  147.29  0.177394\n",
       "June      -42.99  147.29  0.161210\n",
       "March     -42.99  147.29  1.120634\n",
       "May       -42.99  147.29  0.231696\n",
       "November  -42.99  147.29  1.235667\n",
       "October   -42.99  147.29  1.019748\n",
       "September -42.99  147.29  0.608121"
      ]
     },
     "execution_count": 51,
     "metadata": {},
     "output_type": "execute_result"
    }
   ],
   "source": [
    "df.groupby(df['Date-Time'].dt.strftime('%B')).mean()"
   ]
  },
  {
   "cell_type": "code",
   "execution_count": 52,
   "metadata": {},
   "outputs": [],
   "source": [
    "df_monthly_means = df.groupby(df['Date-Time'].dt.strftime('%B')).mean()"
   ]
  },
  {
   "cell_type": "code",
   "execution_count": 53,
   "metadata": {},
   "outputs": [
    {
     "data": {
      "text/html": [
       "<div>\n",
       "<style scoped>\n",
       "    .dataframe tbody tr th:only-of-type {\n",
       "        vertical-align: middle;\n",
       "    }\n",
       "\n",
       "    .dataframe tbody tr th {\n",
       "        vertical-align: top;\n",
       "    }\n",
       "\n",
       "    .dataframe thead th {\n",
       "        text-align: right;\n",
       "    }\n",
       "</style>\n",
       "<table border=\"1\" class=\"dataframe\">\n",
       "  <thead>\n",
       "    <tr style=\"text-align: right;\">\n",
       "      <th></th>\n",
       "      <th>Date-Time</th>\n",
       "      <th>Lat</th>\n",
       "      <th>Lon</th>\n",
       "      <th>UV_Index</th>\n",
       "    </tr>\n",
       "  </thead>\n",
       "  <tbody>\n",
       "    <tr>\n",
       "      <th>0</th>\n",
       "      <td>April</td>\n",
       "      <td>-42.99</td>\n",
       "      <td>147.29</td>\n",
       "      <td>0.563583</td>\n",
       "    </tr>\n",
       "    <tr>\n",
       "      <th>1</th>\n",
       "      <td>August</td>\n",
       "      <td>-42.99</td>\n",
       "      <td>147.29</td>\n",
       "      <td>0.289796</td>\n",
       "    </tr>\n",
       "    <tr>\n",
       "      <th>2</th>\n",
       "      <td>December</td>\n",
       "      <td>-42.99</td>\n",
       "      <td>147.29</td>\n",
       "      <td>2.070730</td>\n",
       "    </tr>\n",
       "    <tr>\n",
       "      <th>3</th>\n",
       "      <td>February</td>\n",
       "      <td>-42.99</td>\n",
       "      <td>147.29</td>\n",
       "      <td>1.591046</td>\n",
       "    </tr>\n",
       "    <tr>\n",
       "      <th>4</th>\n",
       "      <td>January</td>\n",
       "      <td>-42.99</td>\n",
       "      <td>147.29</td>\n",
       "      <td>2.080298</td>\n",
       "    </tr>\n",
       "    <tr>\n",
       "      <th>5</th>\n",
       "      <td>July</td>\n",
       "      <td>-42.99</td>\n",
       "      <td>147.29</td>\n",
       "      <td>0.177394</td>\n",
       "    </tr>\n",
       "    <tr>\n",
       "      <th>6</th>\n",
       "      <td>June</td>\n",
       "      <td>-42.99</td>\n",
       "      <td>147.29</td>\n",
       "      <td>0.161210</td>\n",
       "    </tr>\n",
       "    <tr>\n",
       "      <th>7</th>\n",
       "      <td>March</td>\n",
       "      <td>-42.99</td>\n",
       "      <td>147.29</td>\n",
       "      <td>1.120634</td>\n",
       "    </tr>\n",
       "    <tr>\n",
       "      <th>8</th>\n",
       "      <td>May</td>\n",
       "      <td>-42.99</td>\n",
       "      <td>147.29</td>\n",
       "      <td>0.231696</td>\n",
       "    </tr>\n",
       "    <tr>\n",
       "      <th>9</th>\n",
       "      <td>November</td>\n",
       "      <td>-42.99</td>\n",
       "      <td>147.29</td>\n",
       "      <td>1.235667</td>\n",
       "    </tr>\n",
       "    <tr>\n",
       "      <th>10</th>\n",
       "      <td>October</td>\n",
       "      <td>-42.99</td>\n",
       "      <td>147.29</td>\n",
       "      <td>1.019748</td>\n",
       "    </tr>\n",
       "    <tr>\n",
       "      <th>11</th>\n",
       "      <td>September</td>\n",
       "      <td>-42.99</td>\n",
       "      <td>147.29</td>\n",
       "      <td>0.608121</td>\n",
       "    </tr>\n",
       "  </tbody>\n",
       "</table>\n",
       "</div>"
      ],
      "text/plain": [
       "    Date-Time    Lat     Lon  UV_Index\n",
       "0       April -42.99  147.29  0.563583\n",
       "1      August -42.99  147.29  0.289796\n",
       "2    December -42.99  147.29  2.070730\n",
       "3    February -42.99  147.29  1.591046\n",
       "4     January -42.99  147.29  2.080298\n",
       "5        July -42.99  147.29  0.177394\n",
       "6        June -42.99  147.29  0.161210\n",
       "7       March -42.99  147.29  1.120634\n",
       "8         May -42.99  147.29  0.231696\n",
       "9    November -42.99  147.29  1.235667\n",
       "10    October -42.99  147.29  1.019748\n",
       "11  September -42.99  147.29  0.608121"
      ]
     },
     "execution_count": 53,
     "metadata": {},
     "output_type": "execute_result"
    }
   ],
   "source": [
    "df_monthly_means = df_monthly_means.reset_index()\n",
    "df_monthly_means"
   ]
  },
  {
   "cell_type": "markdown",
   "metadata": {},
   "source": [
    "<h2>High UV levels during summer and lower UV levels during winter"
   ]
  },
  {
   "cell_type": "code",
   "execution_count": 54,
   "metadata": {},
   "outputs": [
    {
     "data": {
      "image/png": "[encoded data removed]",
      "text/plain": [
       "<Figure size 432x288 with 1 Axes>"
      ]
     },
     "metadata": {
      "needs_background": "light"
     },
     "output_type": "display_data"
    }
   ],
   "source": [
    "months=[]\n",
    "for i in calendar.month_name:\n",
    "    months.append(i)\n",
    "    \n",
    "sns.barplot(df_monthly_means['Date-Time'],df_monthly_means['UV_Index'],order=months)\n",
    "plt.xticks(rotation=90)\n",
    "plt.title('Monthly UV Index variation')\n",
    "plt.show()"
   ]
  },
  {
   "cell_type": "code",
   "execution_count": 55,
   "metadata": {},
   "outputs": [],
   "source": [
    "df_Jan = df.groupby(df['Date-Time'].dt.strftime('%B')).get_group('January')"
   ]
  },
  {
   "cell_type": "markdown",
   "metadata": {},
   "source": [
    "<h2>Most of the UV data falls within the Minimal category according to below graph"
   ]
  },
  {
   "cell_type": "code",
   "execution_count": 56,
   "metadata": {},
   "outputs": [
    {
     "data": {
      "image/png": "[encoded data removed]",
      "text/plain": [
       "<Figure size 432x288 with 1 Axes>"
      ]
     },
     "metadata": {
      "needs_background": "light"
     },
     "output_type": "display_data"
    }
   ],
   "source": [
    "sns.countplot(df_Jan['UV_Index_new'])\n",
    "plt.title('January UV Index')\n",
    "plt.show()"
   ]
  },
  {
   "cell_type": "markdown",
   "metadata": {},
   "source": [
    "<h2>Box plot shows more variation in UV levels at High UV index group"
   ]
  },
  {
   "cell_type": "code",
   "execution_count": 134,
   "metadata": {},
   "outputs": [
    {
     "data": {
      "text/plain": [
       "<matplotlib.axes._subplots.AxesSubplot at 0x1be667de908>"
      ]
     },
     "execution_count": 134,
     "metadata": {},
     "output_type": "execute_result"
    },
    {
     "data": {
      "image/png": "[encoded data removed]",
      "text/plain": [
       "<Figure size 432x288 with 1 Axes>"
      ]
     },
     "metadata": {
      "needs_background": "light"
     },
     "output_type": "display_data"
    }
   ],
   "source": [
    "sns.boxplot(df_Jan['UV_Index_new'],df_Jan['UV_Index'])"
   ]
  },
  {
   "cell_type": "code",
   "execution_count": 133,
   "metadata": {},
   "outputs": [],
   "source": [
    "df_Jan_Hr = df_Jan.groupby(df_Jan['Date-Time'].dt.strftime('%H')).mean()\n",
    "df_Jan_Hr = df_Jan_Hr.reset_index()"
   ]
  },
  {
   "cell_type": "markdown",
   "metadata": {},
   "source": [
    "<h3>Hourly UV index behaviour as a continuous plot for January"
   ]
  },
  {
   "cell_type": "code",
   "execution_count": 61,
   "metadata": {},
   "outputs": [
    {
     "data": {
      "image/png": "[encoded data removed]",
      "text/plain": [
       "<Figure size 432x288 with 1 Axes>"
      ]
     },
     "metadata": {
      "needs_background": "light"
     },
     "output_type": "display_data"
    }
   ],
   "source": [
    "plt.plot(df_Jan_Hr['Date-Time'],df_Jan_Hr['UV_Index'],'.')\n",
    "plt.title('January UV Index behaviour')\n",
    "plt.xlabel('Hour of the day')\n",
    "plt.ylabel('UV Index')\n",
    "plt.show()"
   ]
  },
  {
   "cell_type": "code",
   "execution_count": 62,
   "metadata": {},
   "outputs": [
    {
     "data": {
      "text/plain": [
       "UV_Index_new\n",
       "High         4\n",
       "Low          2\n",
       "Minimal     15\n",
       "Moderate     3\n",
       "dtype: int64"
      ]
     },
     "execution_count": 62,
     "metadata": {},
     "output_type": "execute_result"
    }
   ],
   "source": [
    "df_Jan_Hr['UV_Index_new']=df_Jan_Hr['UV_Index'].apply(lambda x:UV_Index_new(x))\n",
    "df_Jan_Hr.groupby('UV_Index_new').size()"
   ]
  },
  {
   "cell_type": "markdown",
   "metadata": {},
   "source": [
    "<h3>Jan hourly UV distribution as descrete plot"
   ]
  },
  {
   "cell_type": "code",
   "execution_count": 63,
   "metadata": {},
   "outputs": [
    {
     "data": {
      "image/png": "[encoded data removed]",
      "text/plain": [
       "<Figure size 432x288 with 1 Axes>"
      ]
     },
     "metadata": {
      "needs_background": "light"
     },
     "output_type": "display_data"
    }
   ],
   "source": [
    "plt.bar(df_Jan_Hr['Date-Time'],df_Jan_Hr['UV_Index_new'])\n",
    "plt.show()"
   ]
  },
  {
   "cell_type": "markdown",
   "metadata": {},
   "source": [
    "<h3>Assign colors for UV levels "
   ]
  },
  {
   "cell_type": "code",
   "execution_count": 64,
   "metadata": {},
   "outputs": [],
   "source": [
    "def my_func(x):\n",
    "    colors=[]\n",
    "    for i in x:\n",
    "        if i<=float(2):\n",
    "            colors.append('green')\n",
    "            continue \n",
    "            \n",
    "        if i<=float(4):\n",
    "            colors.append('blue')\n",
    "            continue\n",
    "            \n",
    "        if i<=float(6):\n",
    "            colors.append('orange')\n",
    "            continue\n",
    "                         \n",
    "        else:\n",
    "            colors.append('red')\n",
    "            \n",
    "    return colors"
   ]
  },
  {
   "cell_type": "markdown",
   "metadata": {},
   "source": [
    "<H3>Daily UV index distribution in January "
   ]
  },
  {
   "cell_type": "code",
   "execution_count": 66,
   "metadata": {},
   "outputs": [
    {
     "data": {
      "image/png": "[encoded data removed]",
      "text/plain": [
       "<Figure size 432x288 with 1 Axes>"
      ]
     },
     "metadata": {
      "needs_background": "light"
     },
     "output_type": "display_data"
    }
   ],
   "source": [
    "df_Jan_Hr['UV_Index'].plot(kind='bar',color= my_func(df_Jan_Hr['UV_Index']))\n",
    "plt.xlabel('Time of the day in Jan')\n",
    "plt.ylabel('UV index')\n",
    "plt.title('Danger level during a day in Jan')\n",
    "plt.show()"
   ]
  },
  {
   "cell_type": "markdown",
   "metadata": {},
   "source": [
    "<h2>Define a function to display hourly UV index distribution of Tasmania for any month "
   ]
  },
  {
   "cell_type": "code",
   "execution_count": 67,
   "metadata": {},
   "outputs": [],
   "source": [
    "from ipywidgets import interact, interactive, fixed, interact_manual"
   ]
  },
  {
   "cell_type": "code",
   "execution_count": 128,
   "metadata": {},
   "outputs": [],
   "source": [
    "def monthly_UV_distribution_tas(month):\n",
    "    df_by_month = df.groupby(df['Date-Time'].dt.strftime('%B')).get_group(month)\n",
    "    df_by_Hr = df_by_month.groupby(df_by_month['Date-Time'].dt.strftime('%H')).mean()\n",
    "    df_by_Hr = df_by_Hr.reset_index()\n",
    "    \n",
    "    def my_func(x):\n",
    "        colors=[]\n",
    "        for i in x:\n",
    "            if i<=float(2):\n",
    "                colors.append('green')\n",
    "                continue \n",
    "\n",
    "            if i<=float(4):\n",
    "                colors.append('blue')\n",
    "                continue\n",
    "\n",
    "            if i<=float(6):\n",
    "                colors.append('orange')\n",
    "                continue\n",
    "\n",
    "            else:\n",
    "                colors.append('red')\n",
    "\n",
    "        return colors\n",
    "    \n",
    "    df_by_Hr['UV_Index'].plot(kind='bar',color= my_func(df_by_Hr['UV_Index']))\n",
    "    plt.xlabel('Time of the day in %s' %month)\n",
    "    plt.ylabel('UV index')\n",
    "    plt.title('Tasmania Danger level during a day in %s' %month)\n",
    "    plt.show()\n"
   ]
  },
  {
   "cell_type": "markdown",
   "metadata": {},
   "source": [
    "<h2>Compare UV index between any two months of the year with two interactive graphs\n",
    "<h3>Dec,Jan and Feb have high UV levels compared to other months "
   ]
  },
  {
   "cell_type": "code",
   "execution_count": 129,
   "metadata": {},
   "outputs": [
    {
     "data": {
      "application/vnd.jupyter.widget-view+json": {
       "model_id": "62c31f837374423eab2da79ebd50e4f3",
       "version_major": 2,
       "version_minor": 0
      },
      "text/plain": [
       "interactive(children=(Dropdown(description='month', options=('January', 'February', 'March', 'April', 'May', '…"
      ]
     },
     "metadata": {},
     "output_type": "display_data"
    },
    {
     "data": {
      "application/vnd.jupyter.widget-view+json": {
       "model_id": "e6964a829f65410c9b12dae32df0de94",
       "version_major": 2,
       "version_minor": 0
      },
      "text/plain": [
       "interactive(children=(Dropdown(description='month', options=('January', 'February', 'March', 'April', 'May', '…"
      ]
     },
     "metadata": {},
     "output_type": "display_data"
    },
    {
     "data": {
      "text/plain": [
       "<function __main__.monthly_UV_distribution_tas(month)>"
      ]
     },
     "execution_count": 129,
     "metadata": {},
     "output_type": "execute_result"
    }
   ],
   "source": [
    "from IPython.display import display\n",
    "from IPython.html import widgets \n",
    "from ipywidgets import interact, interactive, fixed, interact_manual\n",
    "\n",
    "months = ['January','February','March','April','May','June','July','August','September','October','November','December']\n",
    "interact(monthly_UV_distribution_tas,month= months)\n",
    "interact(monthly_UV_distribution_tas,month= months)"
   ]
  },
  {
   "cell_type": "markdown",
   "metadata": {},
   "source": [
    "<h2>Load Sydney UV index data set "
   ]
  },
  {
   "cell_type": "code",
   "execution_count": 140,
   "metadata": {},
   "outputs": [],
   "source": [
    "df_sydney = pd.read_csv('https://data.gov.au/data/dataset/c31a759c-a4d4-455f-87a7-98576be14f11/resource/40376ebe-9efc-4b72-98e7-20964d68a530/download/uv-sydney-2018.csv')"
   ]
  },
  {
   "cell_type": "code",
   "execution_count": 142,
   "metadata": {},
   "outputs": [],
   "source": [
    "df_sydney['Date-Time']=df_sydney['Date-Time'].astype('datetime64')"
   ]
  },
  {
   "cell_type": "markdown",
   "metadata": {},
   "source": [
    "<h2>Define hourley UV distribution function for Sydney data set for any given month"
   ]
  },
  {
   "cell_type": "code",
   "execution_count": 130,
   "metadata": {},
   "outputs": [],
   "source": [
    "def monthly_UV_distribution_sydney(month):\n",
    "    df_by_month = df_sydney.groupby(df['Date-Time'].dt.strftime('%B')).get_group(month)\n",
    "    df_by_Hr = df_by_month.groupby(df_by_month['Date-Time'].dt.strftime('%H')).mean()\n",
    "    df_by_Hr = df_by_Hr.reset_index()\n",
    "    \n",
    "    def my_func(x):\n",
    "        colors=[]\n",
    "        for i in x:\n",
    "            if i<=float(2):\n",
    "                colors.append('green')\n",
    "                continue \n",
    "\n",
    "            if i<=float(4):\n",
    "                colors.append('blue')\n",
    "                continue\n",
    "\n",
    "            if i<=float(6):\n",
    "                colors.append('orange')\n",
    "                continue\n",
    "\n",
    "            else:\n",
    "                colors.append('red')\n",
    "\n",
    "        return colors\n",
    "    \n",
    "    df_by_Hr['UV_Index'].plot(kind='bar',color= my_func(df_by_Hr['UV_Index']))\n",
    "    plt.xlabel('Time of the day in %s' %month)\n",
    "    plt.ylabel('UV index')\n",
    "    plt.title('Sydney danger level during a day in %s' %month)\n",
    "    plt.show()"
   ]
  },
  {
   "cell_type": "markdown",
   "metadata": {},
   "source": [
    "<h2>Comparison of UV Indeces between Tasmania(Kingston) and Sydney via an interactive graph\n",
    "<h3>Tasmania looks safer than Sydney!"
   ]
  },
  {
   "cell_type": "code",
   "execution_count": 131,
   "metadata": {},
   "outputs": [
    {
     "data": {
      "application/vnd.jupyter.widget-view+json": {
       "model_id": "4a5c4b6f341846e0aa8fb9388b91a13f",
       "version_major": 2,
       "version_minor": 0
      },
      "text/plain": [
       "interactive(children=(Dropdown(description='month', options=('January', 'February', 'March', 'April', 'May', '…"
      ]
     },
     "metadata": {},
     "output_type": "display_data"
    },
    {
     "data": {
      "application/vnd.jupyter.widget-view+json": {
       "model_id": "b40da98ab4df4fdda9de957bc311adc3",
       "version_major": 2,
       "version_minor": 0
      },
      "text/plain": [
       "interactive(children=(Dropdown(description='month', options=('January', 'February', 'March', 'April', 'May', '…"
      ]
     },
     "metadata": {},
     "output_type": "display_data"
    },
    {
     "data": {
      "text/plain": [
       "<function __main__.monthly_UV_distribution_tas(month)>"
      ]
     },
     "execution_count": 131,
     "metadata": {},
     "output_type": "execute_result"
    }
   ],
   "source": [
    "from IPython.display import display\n",
    "from IPython.html import widgets \n",
    "from ipywidgets import interact, interactive, fixed, interact_manual\n",
    "\n",
    "months = ['January','February','March','April','May','June','July','August','September','October','November','December']\n",
    "interact(monthly_UV_distribution_sydney,month= months)\n",
    "interact(monthly_UV_distribution_tas,month= months)"
   ]
  },
  {
   "cell_type": "markdown",
   "metadata": {},
   "source": [
    "<h2>Let's add one more city to the comparison, Melborne"
   ]
  },
  {
   "cell_type": "code",
   "execution_count": 137,
   "metadata": {},
   "outputs": [],
   "source": [
    "df_mel = pd.read_csv('https://data.gov.au/data/dataset/fb836013-f300-4f92-aa1e-fb5014aea40e/resource/0eb24d04-95c0-4ec9-b72e-e7491bf9b766/download/uv-melbourne-2018.csv')"
   ]
  },
  {
   "cell_type": "code",
   "execution_count": 138,
   "metadata": {},
   "outputs": [],
   "source": [
    "df_mel['Date-Time']=df_mel['Date-Time'].astype('datetime64')"
   ]
  },
  {
   "cell_type": "code",
   "execution_count": 143,
   "metadata": {},
   "outputs": [],
   "source": [
    "def monthly_UV_distribution_mel(month):\n",
    "    df_by_month = df_mel.groupby(df['Date-Time'].dt.strftime('%B')).get_group(month)\n",
    "    df_by_Hr = df_by_month.groupby(df_by_month['Date-Time'].dt.strftime('%H')).mean()\n",
    "    df_by_Hr = df_by_Hr.reset_index()\n",
    "    \n",
    "    def my_func(x):\n",
    "        colors=[]\n",
    "        for i in x:\n",
    "            if i<=float(2):\n",
    "                colors.append('green')\n",
    "                continue \n",
    "\n",
    "            if i<=float(4):\n",
    "                colors.append('blue')\n",
    "                continue\n",
    "\n",
    "            if i<=float(6):\n",
    "                colors.append('orange')\n",
    "                continue\n",
    "\n",
    "            else:\n",
    "                colors.append('red')\n",
    "\n",
    "        return colors\n",
    "    \n",
    "    df_by_Hr['UV_Index'].plot(kind='bar',color= my_func(df_by_Hr['UV_Index']))\n",
    "    plt.xlabel('Time of the day in %s' %month)\n",
    "    plt.ylabel('UV index')\n",
    "    plt.title('Melborne danger level during a day in %s' %month)\n",
    "    plt.show()"
   ]
  },
  {
   "cell_type": "markdown",
   "metadata": {},
   "source": [
    "<h2>Kingston Tasmania shows slightly lower levels of UV radiation than Melborne\n",
    "<h3>Change the month in the below interactive graphs and make your own comparison "
   ]
  },
  {
   "cell_type": "code",
   "execution_count": 144,
   "metadata": {},
   "outputs": [
    {
     "data": {
      "application/vnd.jupyter.widget-view+json": {
       "model_id": "c4eb877d586f47178e9640a843ecc18a",
       "version_major": 2,
       "version_minor": 0
      },
      "text/plain": [
       "interactive(children=(Dropdown(description='month', options=('January', 'February', 'March', 'April', 'May', '…"
      ]
     },
     "metadata": {},
     "output_type": "display_data"
    },
    {
     "data": {
      "application/vnd.jupyter.widget-view+json": {
       "model_id": "0a227dce65ac4de3abad7baa88ae5a21",
       "version_major": 2,
       "version_minor": 0
      },
      "text/plain": [
       "interactive(children=(Dropdown(description='month', options=('January', 'February', 'March', 'April', 'May', '…"
      ]
     },
     "metadata": {},
     "output_type": "display_data"
    },
    {
     "data": {
      "application/vnd.jupyter.widget-view+json": {
       "model_id": "69f5491d160d4848aa41bc8d93af6f29",
       "version_major": 2,
       "version_minor": 0
      },
      "text/plain": [
       "interactive(children=(Dropdown(description='month', options=('January', 'February', 'March', 'April', 'May', '…"
      ]
     },
     "metadata": {},
     "output_type": "display_data"
    },
    {
     "data": {
      "text/plain": [
       "<function __main__.monthly_UV_distribution_mel(month)>"
      ]
     },
     "execution_count": 144,
     "metadata": {},
     "output_type": "execute_result"
    }
   ],
   "source": [
    "months = ['January','February','March','April','May','June','July','August','September','October','November','December']\n",
    "interact(monthly_UV_distribution_sydney,month= months)\n",
    "interact(monthly_UV_distribution_tas,month= months)\n",
    "interact(monthly_UV_distribution_mel,month= months)"
   ]
  },
  {
   "cell_type": "markdown",
   "metadata": {},
   "source": [
    "<h3>Created by Savinda Lakshan Kalubowila (BSc.Eng)"
   ]
  },
  {
   "cell_type": "code",
   "execution_count": null,
   "metadata": {},
   "outputs": [],
   "source": []
  }
 ],
 "metadata": {
  "kernelspec": {
   "display_name": "Python 3",
   "language": "python",
   "name": "python3"
  },
  "language_info": {
   "codemirror_mode": {
    "name": "ipython",
    "version": 3
   },
   "file_extension": ".py",
   "mimetype": "text/x-python",
   "name": "python",
   "nbconvert_exporter": "python",
   "pygments_lexer": "ipython3",
   "version": "3.7.3"
  }
 },
 "nbformat": 4,
 "nbformat_minor": 2
}
